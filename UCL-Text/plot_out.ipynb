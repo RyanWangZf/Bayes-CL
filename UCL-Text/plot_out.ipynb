{
 "cells": [
  {
   "cell_type": "code",
   "execution_count": 2,
   "metadata": {},
   "outputs": [],
   "source": [
    "import matplotlib\n",
    "#matplotlib.use(\"AGG\")\n",
    "import matplotlib.pyplot as plt\n",
    "import seaborn as sns\n",
    "import numpy as np\n",
    "import os"
   ]
  },
  {
   "cell_type": "code",
   "execution_count": 20,
   "metadata": {},
   "outputs": [
    {
     "data": {
      "image/png": "[encoded data removed]",
      "text/plain": [
       "<Figure size 432x288 with 1 Axes>"
      ]
     },
     "metadata": {
      "needs_background": "light"
     },
     "output_type": "display_data"
    }
   ],
   "source": [
    "data_name = \"20ng\"\n",
    "mode = \"epis\"\n",
    "score_ucl_path = \"./out/ucl_small_{}_DEF/score_{}.npy\".format(data_name, mode)\n",
    "# score_ucltl_path = \"./out/ucltl_small_{}_DEF/score_{}.npy\".format(data_name, mode)\n",
    "\n",
    "score_ucl = np.load(score_ucl_path)\n",
    "# score_ucltl = np.load(score_ucltl_path)\n",
    "\n",
    "# standardize\n",
    "# func = lambda x: (x-x.min())/(x.max()-x.min())\n",
    "func = lambda x:x\n",
    "fig, ax = plt.subplots()\n",
    "sns.distplot(func(score_ucl), kde=False, bins=20, label=\"self-tutoring\")\n",
    "# sns.distplot(func(score_ucltl), kde=False, bins=20,label=\"transfer\")\n",
    "# ax.set_ylim([0,20])\n",
    "plt.legend()\n",
    "plt.show()\n",
    "# standardize\n",
    "# func = lambda x: (x-x.min())/(x.max()-x.min())\n",
    "func = lambda x:x"
   ]
  },
  {
   "cell_type": "code",
   "execution_count": 12,
   "metadata": {},
   "outputs": [
    {
     "name": "stdout",
     "output_type": "stream",
     "text": [
      "load dataset: mr\n",
      "load preprocessed features.\n"
     ]
    }
   ],
   "source": [
    "import matplotlib\n",
    "#matplotlib.use(\"AGG\")\n",
    "import matplotlib.pyplot as plt\n",
    "import seaborn as sns\n",
    "import numpy as np\n",
    "import os\n",
    "\n",
    "# plot score and corresponding data\n",
    "data_name = \"mr\"\n",
    "\n",
    "# load image\n",
    "from dataset import load_data\n",
    "x_tr, y_tr, x_va, y_va, x_te, y_te, vocab_size = load_data(data_name)\n",
    "\n",
    "# load score\n",
    "log_dir = \"./out/ucl_small_{}_DEF\".format(data_name)\n",
    "alea_ar = np.load(os.path.join(log_dir, \"score_alea.npy\"), allow_pickle=True)\n",
    "epis_ar = np.load(os.path.join(log_dir, \"score_epis.npy\"), allow_pickle=True)\n",
    "mix_ar = np.load(os.path.join(log_dir, \"score_mix.npy\"), allow_pickle=True)\n",
    "# snr_ar = np.load(os.path.join(log_dir, \"score_snr.npy\"), allow_pickle=True)\n",
    "\n",
    "from dataset import get_id2word_func\n",
    "id2word = get_id2word_func(data_name)"
   ]
  },
  {
   "cell_type": "code",
   "execution_count": 15,
   "metadata": {},
   "outputs": [
    {
     "name": "stdout",
     "output_type": "stream",
     "text": [
      "label: 0\n",
      "2.4154370994664e-13\n",
      "pretentious mess bland\n",
      "label: 0\n",
      "2.245177107380522e-13\n",
      "worst schmaltzy nicky bad is hanukkah little 10 numbingly unfunny about adam and cartoon list sandler\n",
      "label: 1\n",
      "2.1387336617429559e-13\n",
      "as mora study snide modern fascinating chilling philippe hitler and prejudice\n",
      "label: 0\n",
      "1.435243661114874e-13\n",
      "for many to thrills see whoop flashbacks new ending bad make film zero big choppy too no and nothing\n",
      "label: 0\n",
      "1.3951262833791084e-13\n",
      "here topical remotely or there nothing sexy\n",
      "label: 1\n",
      "1.342925743481535e-13\n",
      "an to gorgeous considerable has the thanks locales performances it tale charm simple unlikely exceptional but and of friendship lead\n",
      "label: 0\n",
      "1.342541393811389e-13\n",
      "much padding obvious too includes\n",
      "label: 0\n",
      "1.0812771305494101e-13\n",
      "by turns disquietingly creepy dull witted numbingly and\n",
      "label: 0\n",
      "1.07509433213554e-13\n",
      "strike 1970s mope one where around as to dress play by actors ponderously worst independent the trying down predecessors lightning and captured of kind their hicks\n",
      "label: 0\n",
      "1.0407288502127174e-13\n",
      "congratulation disguised west as self sidey upper in tribute narcissism exercise and\n",
      "label: 0\n",
      "6.617778292592261e-14\n",
      "films one worst the 2002 of\n",
      "label: 1\n",
      "3.7658766350538025e-14\n",
      "best films insomnia complicated one pacino the year performances is most daring gives and of his\n",
      "label: 1\n",
      "1.492139846740164e-14\n",
      "with race told performances culture powerful it tale wise and of forcefully superb throughout\n",
      "label: 0\n",
      "1.3852248070388845e-14\n",
      "one many to small by into nebrida the tries ingredients cram too pot script vincent\n",
      "label: 0\n",
      "1.1889431327210664e-14\n",
      "meandering and boring\n",
      "label: 0\n",
      "1.1839879899796287e-14\n",
      "dismally sci comedy fi dull\n",
      "label: 0\n",
      "9.788010347708525e-15\n",
      "very stupid annoying and\n",
      "label: 0\n",
      "1.5116347176558276e-16\n",
      "it just plain boring\n",
      "label: 0\n",
      "2.081932703532063e-17\n",
      "things to guest up could kramer liven bad make appearance too\n",
      "label: 1\n",
      "0.0\n",
      "invigorating an intelligent film and moving\n"
     ]
    }
   ],
   "source": [
    "all_idx = np.arange(len(epis_ar))\n",
    "sub_idx = np.argsort(epis_ar)[:20]\n",
    "\n",
    "for i in sub_idx[::-1]:\n",
    "    print(\"label:\", y_tr[i])\n",
    "    print(epis_ar[i])\n",
    "    print(\" \".join(id2word(x_tr[i])).strip())"
   ]
  },
  {
   "cell_type": "code",
   "execution_count": 14,
   "metadata": {},
   "outputs": [
    {
     "name": "stdout",
     "output_type": "stream",
     "text": [
      "label: 1\n",
      "0.2391229122877121\n",
      "woody remind one allen with to really locales new it film sharp solid excellent writing and its of tends use york\n",
      "label: 1\n",
      "0.23881784081459045\n",
      "how enlightening session on this depends the that only your you recording appreciative is film part level and of are fandom\n",
      "label: 1\n",
      "0.22963836789131165\n",
      "movie does the comes even through when cast\n",
      "label: 0\n",
      "0.22251109778881073\n",
      "deserves at this the very candy box anyone film through least big of consolation suffers who\n",
      "label: 1\n",
      "0.21766439080238342\n",
      "lane an more this ca homosexual than eddie you it in just thing think get pops nickleby film gay murphy have when nathan and any might undertones\n",
      "label: 0\n",
      "0.2114448845386505\n",
      "nuanced up young the portrait film breakdown few nevertheless works hardly of woman scares\n",
      "label: 0\n",
      "0.20892389118671417\n",
      "exact bloody dark to movie be green the that feels mean is sour audience exhaustion and what from watching\n",
      "label: 1\n",
      "0.20700755715370178\n",
      "movie road stirring\n",
      "label: 1\n",
      "0.20691683888435364\n",
      "uncluttered relays an resonant points that confrontations lectures universal its without or gem\n",
      "label: 0\n",
      "0.19999276101589203\n",
      "how re thriller fair to be this the turns title manipulative you ultra trapped pretty while description out of feel watching\n",
      "label: 0\n",
      "0.19815056025981903\n",
      "here much upscale take on lifestyle the is dismissive easily like its there\n",
      "label: 0\n",
      "0.19799967110157013\n",
      "best as be enjoyed soaper daytime might\n",
      "label: 1\n",
      "0.19764548540115356\n",
      "amusing such an more usually than pictures little sophisticated literate catch and are\n",
      "label: 1\n",
      "0.197043776512146\n",
      "how things degraded compulsively watchable matter get no\n",
      "label: 0\n",
      "0.19408710300922394\n",
      "gong the worthy of\n",
      "label: 0\n",
      "0.1932346373796463\n",
      "old movie the is just monster plain\n",
      "label: 0\n",
      "0.19185450673103333\n",
      "tired with to retread was that begin great unnecessary picture copy of all stale\n",
      "label: 0\n",
      "0.19112864136695862\n",
      "motives substance us the that fears boots is it in dramatic fuddled seats about our would drains remarkably and of or cinema all sum context shake which\n",
      "label: 1\n",
      "0.19080547988414764\n",
      "many an vs the answers guys is in pointed interesting little personalities film conclusive big but and of there tragedy story are courage\n",
      "label: 1\n",
      "0.1904657930135727\n",
      "modest one to be mythic try this winning welcome that movies is hard too ultimately and relief story baseball sweet from\n"
     ]
    }
   ],
   "source": [
    "all_idx = np.arange(len(epis_ar))\n",
    "sub_idx = np.argsort(epis_ar)[-20:]\n",
    "\n",
    "for i in sub_idx[::-1]:\n",
    "    print(\"label:\", y_tr[i])\n",
    "    print(epis_ar[i])\n",
    "    print(\" \".join(id2word(x_tr[i])).strip())"
   ]
  },
  {
   "cell_type": "code",
   "execution_count": null,
   "metadata": {},
   "outputs": [],
   "source": []
  }
 ],
 "metadata": {
  "kernelspec": {
   "display_name": "anaconda3",
   "language": "python",
   "name": "anaconda3"
  },
  "language_info": {
   "codemirror_mode": {
    "name": "ipython",
    "version": 3
   },
   "file_extension": ".py",
   "mimetype": "text/x-python",
   "name": "python",
   "nbconvert_exporter": "python",
   "pygments_lexer": "ipython3",
   "version": "3.6.8"
  }
 },
 "nbformat": 4,
 "nbformat_minor": 2
}
